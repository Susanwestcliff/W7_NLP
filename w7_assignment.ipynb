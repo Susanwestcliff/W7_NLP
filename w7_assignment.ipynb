{
  "nbformat": 4,
  "nbformat_minor": 0,
  "metadata": {
    "colab": {
      "provenance": [],
      "gpuType": "T4"
    },
    "kernelspec": {
      "name": "python3",
      "display_name": "Python 3"
    },
    "language_info": {
      "name": "python"
    },
    "accelerator": "GPU"
  },
  "cells": [
    {
      "cell_type": "code",
      "source": [
        "import pandas as pd\n",
        "import numpy as np\n",
        "import re\n",
        "import io\n",
        "import requests\n",
        "from sklearn.model_selection import train_test_split\n",
        "from sklearn.preprocessing import LabelEncoder\n",
        "from sklearn.metrics import accuracy_score, precision_recall_fscore_support\n",
        "\n",
        "# Load dataset\n",
        "data = pd.read_csv('/content/drive/MyDrive/dataset tech 405/Sports.csv')  # Updated file path placeholder\n",
        "print(data.head())\n",
        "\n",
        "# EDA\n",
        "def perform_eda(df):\n",
        "    print(\"Dataset Information:\")\n",
        "    print(df.info())\n",
        "\n",
        "    print(\"\\nLabel Distribution:\")\n",
        "    print(df['Label'].value_counts(normalize=True))\n",
        "\n",
        "    print(\"\\nSample Texts:\")\n",
        "    print(df['Text'].head())\n",
        "\n",
        "    return df\n",
        "\n",
        "#Data Cleaning\n",
        "def clean_text(text):\n",
        "    # Convert to lowercase\n",
        "    text = str(text).lower()\n",
        "\n",
        "    # Remove punctuation and special characters\n",
        "    text = re.sub(r'[^a-zA-Z\\s]', '', text)\n",
        "\n",
        "    # Tokenize\n",
        "    tokens = word_tokenize(text)\n",
        "\n",
        "    # Remove stopwords\n",
        "    stop_words = set(stopwords.words('english'))\n",
        "    tokens = [token for token in tokens if token not in stop_words]\n",
        "\n",
        "    return ' '.join(tokens)"
      ],
      "metadata": {
        "colab": {
          "base_uri": "https://localhost:8080/"
        },
        "id": "4_exJj4Ne8cm",
        "outputId": "9ea1a239-2223-4a9b-cf9a-0c907f998846"
      },
      "execution_count": 89,
      "outputs": [
        {
          "output_type": "stream",
          "name": "stdout",
          "text": [
            "                                                Text     Label\n",
            "0  The team's recent victories have raised suspic...  positive\n",
            "1  Despite their recent loss, the team's morale r...  positive\n",
            "2  Rumors of match-fixing have cast a shadow over...  negative\n",
            "3  The unexpected resignation of the coach has le...  negative\n",
            "4  Speculations about doping allegations have led...  negative\n"
          ]
        }
      ]
    },
    {
      "cell_type": "code",
      "source": [
        "#Word Embedding\n",
        "def prepare_embeddings(X_train, X_test):\n",
        "#TF-IDF\n",
        "    from sklearn.feature_extraction.text import TfidfVectorizer\n",
        "    tfidf_vectorizer = TfidfVectorizer(max_features=5000)\n",
        "    X_train_tfidf = tfidf_vectorizer.fit_transform(X_train)\n",
        "    X_test_tfidf = tfidf_vectorizer.transform(X_test)\n",
        "\n",
        "# Pre-trained Word2Vec (with fallback)\n",
        "    import gensim.downloader as api\n",
        "\n",
        "    try:\n",
        "#  pre-trained Word2Vec model\n",
        "        word2vec_model = api.load('word2vec-google-news-300')\n",
        "\n",
        "        def text_to_word2vec_vector(text):\n",
        "            words = text.split()\n",
        "            vectors = [word2vec_model[word] for word in words if word in word2vec_model]\n",
        "            return np.mean(vectors, axis=0) if vectors else np.zeros(300)\n",
        "\n",
        "        X_train_word2vec = np.array([text_to_word2vec_vector(text) for text in X_train])\n",
        "        X_test_word2vec = np.array([text_to_word2vec_vector(text) for text in X_test])\n",
        "    except Exception as e:\n",
        "        print(f\"Word2Vec download failed: {e}\")\n",
        "        # Fallback to zero vectors\n",
        "        X_train_word2vec = np.zeros((len(X_train), 300))\n",
        "        X_test_word2vec = np.zeros((len(X_test), 300))\n",
        "\n",
        "# Custom Corpus Word2Vec (CBOW)\n",
        "    from gensim.models import Word2Vec\n",
        "\n",
        "# Prepare sentences\n",
        "    sentences = [text.split() for text in X_train]\n",
        "\n",
        "# CBOW Model\n",
        "    cbow_model = Word2Vec(sentences, vector_size=100, window=5, min_count=1, sg=0)\n",
        "\n",
        "    def text_to_cbow_vector(text):\n",
        "        words = text.split()\n",
        "        vectors = [cbow_model.wv[word] for word in words if word in cbow_model.wv]\n",
        "        return np.mean(vectors, axis=0) if vectors else np.zeros(100)\n",
        "\n",
        "    X_train_cbow = np.array([text_to_cbow_vector(text) for text in X_train])\n",
        "    X_test_cbow = np.array([text_to_cbow_vector(text) for text in X_test])\n",
        "\n",
        "#  Embedding Layer\n",
        "    from tensorflow.keras.preprocessing.text import Tokenizer\n",
        "    from tensorflow.keras.preprocessing.sequence import pad_sequences\n",
        "\n",
        "    tokenizer = Tokenizer(num_words=5000)\n",
        "    tokenizer.fit_on_texts(X_train)\n",
        "\n",
        "    X_train_seq = tokenizer.texts_to_sequences(X_train)\n",
        "    X_test_seq = tokenizer.texts_to_sequences(X_test)\n",
        "\n",
        "    max_length = max(len(seq) for seq in X_train_seq)\n",
        "    X_train_pad = pad_sequences(X_train_seq, maxlen=max_length)\n",
        "    X_test_pad = pad_sequences(X_test_seq, maxlen=max_length)\n",
        "\n",
        "    return {\n",
        "        'TF-IDF': (X_train_tfidf, X_test_tfidf),\n",
        "        'Word2Vec': (X_train_word2vec, X_test_word2vec),\n",
        "        'CBOW': (X_train_cbow, X_test_cbow),\n",
        "        'Embedding': (X_train_pad, X_test_pad, tokenizer, max_length)\n",
        "    }"
      ],
      "metadata": {
        "id": "N_xN33ejrbO0"
      },
      "execution_count": 91,
      "outputs": []
    },
    {
      "cell_type": "code",
      "source": [
        "# Model training\n",
        "classifier = RandomForestClassifier()\n",
        "classifier.fit(X_train, y_train)\n",
        "\n",
        "# Model evaluation\n",
        "from sklearn.metrics import accuracy_score, classification_report, confusion_matrix\n",
        "\n",
        "y_pred = classifier.predict(X_test)\n",
        "\n",
        "print(f\"Accuracy: {accuracy_score(y_test, y_pred):.2f}\")\n",
        "print(\"\\nClassification Report:\\n\", classification_report(y_test, y_pred))"
      ],
      "metadata": {
        "colab": {
          "base_uri": "https://localhost:8080/"
        },
        "id": "O27XMYuenK7o",
        "outputId": "d187c034-cf51-4e04-fc96-15be9ddea009"
      },
      "execution_count": 92,
      "outputs": [
        {
          "output_type": "stream",
          "name": "stdout",
          "text": [
            "Accuracy: 0.67\n",
            "\n",
            "Classification Report:\n",
            "               precision    recall  f1-score   support\n",
            "\n",
            "    negative       0.71      0.71      0.71         7\n",
            "    positive       0.60      0.60      0.60         5\n",
            "\n",
            "    accuracy                           0.67        12\n",
            "   macro avg       0.66      0.66      0.66        12\n",
            "weighted avg       0.67      0.67      0.67        12\n",
            "\n"
          ]
        }
      ]
    },
    {
      "cell_type": "code",
      "source": [
        "# Confusion matrix visualization\n",
        "import seaborn as sns\n",
        "import matplotlib.pyplot as plt\n",
        "from sklearn.metrics import ConfusionMatrixDisplay\n",
        "\n",
        "ConfusionMatrixDisplay.from_estimator(classifier, X_test, y_test, cmap=\"Blues\")\n",
        "plt.show()"
      ],
      "metadata": {
        "colab": {
          "base_uri": "https://localhost:8080/",
          "height": 455
        },
        "id": "I1b6r7P-mb1w",
        "outputId": "3b8c9df3-cbf4-4812-9cfd-c643525cf2b3"
      },
      "execution_count": 93,
      "outputs": [
        {
          "output_type": "display_data",
          "data": {
            "text/plain": [
              "<Figure size 640x480 with 2 Axes>"
            ],
            "image/png": "[encoded data removed]"
          },
          "metadata": {}
        }
      ]
    },
    {
      "cell_type": "code",
      "source": [
        "# Prediction function\n",
        "def predict_sentiment(input_text, trained_model, tfidf_vectorizer):\n",
        "    input_vectorized = tfidf_vectorizer.transform([input_text])\n",
        "    prediction = trained_model.predict(input_vectorized)\n",
        "    return prediction[0]\n",
        "\n",
        "# Test examples\n",
        "test_samples = [\n",
        "    \"Football is fun to watch and enjoy\",\n",
        "    \"Nepal is very good at cricket\",\n",
        "    \"Ronaldo and Messi are good football players\",\n",
        "    \"The unexpected resignation of the coach has left the team in disarray\",\n",
        "    \"Sports fandom can foster a sense of community and belonging among fans\"\n",
        "]\n",
        "\n",
        "for sample in test_samples:\n",
        "    sentiment_prediction = predict_sentiment(sample, classifier, vectorizer)\n",
        "    print(f\"Test_Text: {sample}\\nPredicted Sentiment: {sentiment_prediction}\\n\")"
      ],
      "metadata": {
        "colab": {
          "base_uri": "https://localhost:8080/"
        },
        "id": "2W9Qt9k-mWRz",
        "outputId": "97344c4d-69e4-4349-82c0-de469aec32ec"
      },
      "execution_count": 94,
      "outputs": [
        {
          "output_type": "stream",
          "name": "stdout",
          "text": [
            "Test_Text: Football is fun to watch and enjoy\n",
            "Predicted Sentiment: positive\n",
            "\n",
            "Test_Text: Nepal is very good at cricket\n",
            "Predicted Sentiment: positive\n",
            "\n",
            "Test_Text: Ronaldo and Messi are good football players\n",
            "Predicted Sentiment: positive\n",
            "\n",
            "Test_Text: The unexpected resignation of the coach has left the team in disarray\n",
            "Predicted Sentiment: negative\n",
            "\n",
            "Test_Text: Sports fandom can foster a sense of community and belonging among fans\n",
            "Predicted Sentiment: positive\n",
            "\n"
          ]
        }
      ]
    }
  ]
}